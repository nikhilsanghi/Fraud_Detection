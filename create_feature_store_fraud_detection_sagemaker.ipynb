{
 "cells": [
  {
   "cell_type": "markdown",
   "metadata": {},
   "source": [
    "# Fraud Detection using feature store with xgboost \n"
   ]
  },
  {
   "cell_type": "markdown",
   "metadata": {},
   "source": [
    "## Setup SageMaker FeatureStore\n",
    "\n",
    "Setting up sessions "
   ]
  },
  {
   "cell_type": "code",
   "execution_count": 1,
   "metadata": {},
   "outputs": [],
   "source": [
    "#importing all the necessary libraries\n",
    "import boto3\n",
    "import sagemaker\n",
    "from sagemaker.session import Session\n",
    "\n",
    "#instantiating region variable\n",
    "region = boto3.Session().region_name\n",
    "\n",
    "# instantiating the boto session\n",
    "boto_session = boto3.Session(region_name=region)\n",
    "\n",
    "# instantiating the sagemaker session\n",
    "sagemaker_client = boto_session.client(service_name='sagemaker', region_name=region)\n",
    "\n",
    "# instantiating the feature_store_runtime session\n",
    "featurestore_runtime = boto_session.client(service_name='sagemaker-featurestore-runtime', region_name=region)\n",
    "\n",
    "feature_store_session = Session(\n",
    "    boto_session=boto_session,\n",
    "    sagemaker_client=sagemaker_client,\n",
    "    sagemaker_featurestore_runtime_client=featurestore_runtime\n",
    ")"
   ]
  },
  {
   "cell_type": "code",
   "execution_count": 2,
   "metadata": {},
   "outputs": [
    {
     "name": "stdout",
     "output_type": "stream",
     "text": [
      "sagemaker-ap-south-1-080451317723\n"
     ]
    }
   ],
   "source": [
    "# bucket for feature store \n",
    "default_s3_bucket_name = feature_store_session.default_bucket()\n",
    "prefix = 'sagemaker-featurestore'\n",
    "\n",
    "print(default_s3_bucket_name)"
   ]
  },
  {
   "cell_type": "code",
   "execution_count": 3,
   "metadata": {},
   "outputs": [
    {
     "name": "stdout",
     "output_type": "stream",
     "text": [
      "arn:aws:iam::080451317723:role/service-role/AmazonSageMaker-ExecutionRole-20211126T134068\n"
     ]
    }
   ],
   "source": [
    "from sagemaker import get_execution_role\n",
    "\n",
    "# role with sagemaker full access\n",
    "role = get_execution_role()\n",
    "print (role)"
   ]
  },
  {
   "cell_type": "markdown",
   "metadata": {},
   "source": [
    "## Importing the  data\n"
   ]
  },
  {
   "cell_type": "code",
   "execution_count": 4,
   "metadata": {},
   "outputs": [
    {
     "data": {
      "text/html": [
       "<div>\n",
       "<style scoped>\n",
       "    .dataframe tbody tr th:only-of-type {\n",
       "        vertical-align: middle;\n",
       "    }\n",
       "\n",
       "    .dataframe tbody tr th {\n",
       "        vertical-align: top;\n",
       "    }\n",
       "\n",
       "    .dataframe thead th {\n",
       "        text-align: right;\n",
       "    }\n",
       "</style>\n",
       "<table border=\"1\" class=\"dataframe\">\n",
       "  <thead>\n",
       "    <tr style=\"text-align: right;\">\n",
       "      <th></th>\n",
       "      <th>time</th>\n",
       "      <th>v1</th>\n",
       "      <th>v2</th>\n",
       "      <th>v3</th>\n",
       "      <th>v4</th>\n",
       "      <th>v5</th>\n",
       "      <th>v6</th>\n",
       "      <th>v7</th>\n",
       "      <th>v8</th>\n",
       "      <th>v9</th>\n",
       "      <th>...</th>\n",
       "      <th>v23</th>\n",
       "      <th>v24</th>\n",
       "      <th>v25</th>\n",
       "      <th>v26</th>\n",
       "      <th>v27</th>\n",
       "      <th>v28</th>\n",
       "      <th>amount</th>\n",
       "      <th>class</th>\n",
       "      <th>event_time</th>\n",
       "      <th>record_id</th>\n",
       "    </tr>\n",
       "  </thead>\n",
       "  <tbody>\n",
       "    <tr>\n",
       "      <th>0</th>\n",
       "      <td>77471.0</td>\n",
       "      <td>1.208979</td>\n",
       "      <td>0.176456</td>\n",
       "      <td>-0.038631</td>\n",
       "      <td>0.230011</td>\n",
       "      <td>0.167064</td>\n",
       "      <td>-0.325209</td>\n",
       "      <td>0.264019</td>\n",
       "      <td>-0.124005</td>\n",
       "      <td>-0.444907</td>\n",
       "      <td>...</td>\n",
       "      <td>0.103200</td>\n",
       "      <td>-0.508589</td>\n",
       "      <td>0.170985</td>\n",
       "      <td>0.003063</td>\n",
       "      <td>-0.057579</td>\n",
       "      <td>0.007417</td>\n",
       "      <td>44.95</td>\n",
       "      <td>0</td>\n",
       "      <td>2021-12-10 01:52:43.962860</td>\n",
       "      <td>124917</td>\n",
       "    </tr>\n",
       "    <tr>\n",
       "      <th>1</th>\n",
       "      <td>72209.0</td>\n",
       "      <td>-2.355663</td>\n",
       "      <td>-1.062768</td>\n",
       "      <td>2.881997</td>\n",
       "      <td>1.612670</td>\n",
       "      <td>-0.239989</td>\n",
       "      <td>1.462987</td>\n",
       "      <td>-1.756041</td>\n",
       "      <td>1.441738</td>\n",
       "      <td>0.836500</td>\n",
       "      <td>...</td>\n",
       "      <td>-0.222708</td>\n",
       "      <td>-0.210299</td>\n",
       "      <td>0.335265</td>\n",
       "      <td>0.064117</td>\n",
       "      <td>0.339849</td>\n",
       "      <td>-0.143154</td>\n",
       "      <td>58.00</td>\n",
       "      <td>0</td>\n",
       "      <td>2021-12-10 01:52:43.962860</td>\n",
       "      <td>111381</td>\n",
       "    </tr>\n",
       "    <tr>\n",
       "      <th>2</th>\n",
       "      <td>81336.0</td>\n",
       "      <td>1.253596</td>\n",
       "      <td>0.232190</td>\n",
       "      <td>-0.091524</td>\n",
       "      <td>0.946319</td>\n",
       "      <td>0.077062</td>\n",
       "      <td>-0.487822</td>\n",
       "      <td>0.207207</td>\n",
       "      <td>-0.163356</td>\n",
       "      <td>0.098120</td>\n",
       "      <td>...</td>\n",
       "      <td>-0.220452</td>\n",
       "      <td>-0.452818</td>\n",
       "      <td>0.776564</td>\n",
       "      <td>-0.277749</td>\n",
       "      <td>0.005163</td>\n",
       "      <td>0.015453</td>\n",
       "      <td>30.00</td>\n",
       "      <td>0</td>\n",
       "      <td>2021-12-10 01:52:43.962860</td>\n",
       "      <td>135639</td>\n",
       "    </tr>\n",
       "    <tr>\n",
       "      <th>3</th>\n",
       "      <td>137708.0</td>\n",
       "      <td>1.129706</td>\n",
       "      <td>-1.207823</td>\n",
       "      <td>-2.350405</td>\n",
       "      <td>1.656583</td>\n",
       "      <td>0.024243</td>\n",
       "      <td>-1.347598</td>\n",
       "      <td>1.436114</td>\n",
       "      <td>-0.634697</td>\n",
       "      <td>-0.126660</td>\n",
       "      <td>...</td>\n",
       "      <td>-0.434681</td>\n",
       "      <td>0.056208</td>\n",
       "      <td>0.275236</td>\n",
       "      <td>-0.536987</td>\n",
       "      <td>-0.127507</td>\n",
       "      <td>0.020262</td>\n",
       "      <td>491.10</td>\n",
       "      <td>0</td>\n",
       "      <td>2021-12-10 01:52:43.962860</td>\n",
       "      <td>209788</td>\n",
       "    </tr>\n",
       "    <tr>\n",
       "      <th>4</th>\n",
       "      <td>44569.0</td>\n",
       "      <td>-0.434785</td>\n",
       "      <td>0.872972</td>\n",
       "      <td>0.455299</td>\n",
       "      <td>0.869779</td>\n",
       "      <td>-0.373575</td>\n",
       "      <td>-0.220424</td>\n",
       "      <td>0.479959</td>\n",
       "      <td>0.453247</td>\n",
       "      <td>-0.829709</td>\n",
       "      <td>...</td>\n",
       "      <td>0.101452</td>\n",
       "      <td>-0.027277</td>\n",
       "      <td>-0.115668</td>\n",
       "      <td>-0.324329</td>\n",
       "      <td>-0.083579</td>\n",
       "      <td>-0.027549</td>\n",
       "      <td>94.40</td>\n",
       "      <td>0</td>\n",
       "      <td>2021-12-10 01:52:43.962860</td>\n",
       "      <td>50619</td>\n",
       "    </tr>\n",
       "  </tbody>\n",
       "</table>\n",
       "<p>5 rows × 33 columns</p>\n",
       "</div>"
      ],
      "text/plain": [
       "       time        v1        v2        v3        v4        v5        v6  \\\n",
       "0   77471.0  1.208979  0.176456 -0.038631  0.230011  0.167064 -0.325209   \n",
       "1   72209.0 -2.355663 -1.062768  2.881997  1.612670 -0.239989  1.462987   \n",
       "2   81336.0  1.253596  0.232190 -0.091524  0.946319  0.077062 -0.487822   \n",
       "3  137708.0  1.129706 -1.207823 -2.350405  1.656583  0.024243 -1.347598   \n",
       "4   44569.0 -0.434785  0.872972  0.455299  0.869779 -0.373575 -0.220424   \n",
       "\n",
       "         v7        v8        v9  ...       v23       v24       v25       v26  \\\n",
       "0  0.264019 -0.124005 -0.444907  ...  0.103200 -0.508589  0.170985  0.003063   \n",
       "1 -1.756041  1.441738  0.836500  ... -0.222708 -0.210299  0.335265  0.064117   \n",
       "2  0.207207 -0.163356  0.098120  ... -0.220452 -0.452818  0.776564 -0.277749   \n",
       "3  1.436114 -0.634697 -0.126660  ... -0.434681  0.056208  0.275236 -0.536987   \n",
       "4  0.479959  0.453247 -0.829709  ...  0.101452 -0.027277 -0.115668 -0.324329   \n",
       "\n",
       "        v27       v28  amount  class                  event_time  record_id  \n",
       "0 -0.057579  0.007417   44.95      0  2021-12-10 01:52:43.962860     124917  \n",
       "1  0.339849 -0.143154   58.00      0  2021-12-10 01:52:43.962860     111381  \n",
       "2  0.005163  0.015453   30.00      0  2021-12-10 01:52:43.962860     135639  \n",
       "3 -0.127507  0.020262  491.10      0  2021-12-10 01:52:43.962860     209788  \n",
       "4 -0.083579 -0.027549   94.40      0  2021-12-10 01:52:43.962860      50619  \n",
       "\n",
       "[5 rows x 33 columns]"
      ]
     },
     "execution_count": 4,
     "metadata": {},
     "output_type": "execute_result"
    }
   ],
   "source": [
    "import numpy as np \n",
    "import pandas as pd\n",
    "import matplotlib.pyplot as plt\n",
    "import io\n",
    "\n",
    "s3_client = boto3.client('s3', region_name=region)\n",
    "\n",
    "fraud_detection_bucket_name = default_s3_bucket_name\n",
    "data_file_key = 'data/fraud-detection/credit-dataset.csv'\n",
    "\n",
    "data_object = s3_client.get_object(Bucket=fraud_detection_bucket_name, Key=data_file_key)\n",
    "\n",
    "transaction_data = pd.read_csv(io.BytesIO(data_object['Body'].read()))\n",
    "\n",
    "transaction_data.head()\n"
   ]
  },
  {
   "cell_type": "markdown",
   "metadata": {},
   "source": [
    "## Ingest Data into FeatureStore , creating feature groups\n",
    "\n",
    "Creating the FeatureGroups representing the transaction and identity tables.\n"
   ]
  },
  {
   "cell_type": "code",
   "execution_count": 5,
   "metadata": {},
   "outputs": [],
   "source": [
    "from time import gmtime, strftime, sleep\n",
    "\n",
    "fd_feature_group_name = 'transactionfeaturegroup'\n"
   ]
  },
  {
   "cell_type": "code",
   "execution_count": 6,
   "metadata": {},
   "outputs": [],
   "source": [
    "from sagemaker.feature_store.feature_group import FeatureGroup\n",
    "#creating a feature group\n",
    "fd_feature_group = FeatureGroup(name=fd_feature_group_name, sagemaker_session=feature_store_session)"
   ]
  },
  {
   "cell_type": "code",
   "execution_count": 7,
   "metadata": {},
   "outputs": [],
   "source": [
    "import time\n",
    "# creating feature group definition \n",
    "current_time_sec = int(round(time.time()))\n",
    "\n",
    "def cast_object_to_string(data_frame):\n",
    "    for label in data_frame.columns:\n",
    "        if data_frame.dtypes[label] == 'object':\n",
    "            data_frame[label] = data_frame[label].astype(\"str\").astype(\"string\")\n",
    "\n",
    "# casting object dtype to string. \n",
    "#FeatureStore map the string dtype to String feature type.\n",
    "cast_object_to_string(transaction_data)\n",
    "\n",
    "# record identifier and event time feature names\n",
    "record_identifier_feature_name = \"record_id\"\n",
    "event_time_feature_name = \"event_time\"\n",
    "\n",
    "# appending EventTime feature\n",
    "transaction_data[event_time_feature_name] = pd.Series([current_time_sec]*len(transaction_data), dtype=\"float64\")\n",
    "\n",
    "# load feature definitions to the feature group\n",
    "fd_feature_group.load_feature_definitions(data_frame=transaction_data); \n"
   ]
  },
  {
   "cell_type": "markdown",
   "metadata": {},
   "source": [
    "#### Create FeatureGroups in SageMaker FeatureStore"
   ]
  },
  {
   "cell_type": "code",
   "execution_count": 8,
   "metadata": {},
   "outputs": [
    {
     "name": "stdout",
     "output_type": "stream",
     "text": [
      "Waiting for Feature Group Creation\n",
      "Waiting for Feature Group Creation\n",
      "Waiting for Feature Group Creation\n",
      "FeatureGroup transactionfeaturegroup successfully created.\n"
     ]
    }
   ],
   "source": [
    "def wait_for_feature_group_creation_complete(feature_group):\n",
    "    status = feature_group.describe().get(\"FeatureGroupStatus\")\n",
    "    while status == \"Creating\":\n",
    "        print(\"Waiting for Feature Group Creation\")\n",
    "        time.sleep(5)\n",
    "        status = feature_group.describe().get(\"FeatureGroupStatus\")\n",
    "    if status != \"Created\":\n",
    "        raise RuntimeError(f\"Failed to create feature group {feature_group.name}\")\n",
    "    print(f\"FeatureGroup {feature_group.name} successfully created.\")\n",
    "\n",
    "fd_feature_group.create(\n",
    "    s3_uri=f\"s3://{default_s3_bucket_name}/{prefix}\",\n",
    "    record_identifier_name=record_identifier_feature_name,\n",
    "    event_time_feature_name=event_time_feature_name,\n",
    "    role_arn=role,\n",
    "    enable_online_store=True,\n",
    "  \n",
    ")\n",
    "\n",
    "wait_for_feature_group_creation_complete(feature_group=fd_feature_group)\n"
   ]
  },
  {
   "cell_type": "code",
   "execution_count": 9,
   "metadata": {},
   "outputs": [
    {
     "data": {
      "text/plain": [
       "{'FeatureGroupArn': 'arn:aws:sagemaker:ap-south-1:080451317723:feature-group/transactionfeaturegroup',\n",
       " 'FeatureGroupName': 'transactionfeaturegroup',\n",
       " 'RecordIdentifierFeatureName': 'record_id',\n",
       " 'EventTimeFeatureName': 'event_time',\n",
       " 'FeatureDefinitions': [{'FeatureName': 'time', 'FeatureType': 'Fractional'},\n",
       "  {'FeatureName': 'v1', 'FeatureType': 'Fractional'},\n",
       "  {'FeatureName': 'v2', 'FeatureType': 'Fractional'},\n",
       "  {'FeatureName': 'v3', 'FeatureType': 'Fractional'},\n",
       "  {'FeatureName': 'v4', 'FeatureType': 'Fractional'},\n",
       "  {'FeatureName': 'v5', 'FeatureType': 'Fractional'},\n",
       "  {'FeatureName': 'v6', 'FeatureType': 'Fractional'},\n",
       "  {'FeatureName': 'v7', 'FeatureType': 'Fractional'},\n",
       "  {'FeatureName': 'v8', 'FeatureType': 'Fractional'},\n",
       "  {'FeatureName': 'v9', 'FeatureType': 'Fractional'},\n",
       "  {'FeatureName': 'v10', 'FeatureType': 'Fractional'},\n",
       "  {'FeatureName': 'v11', 'FeatureType': 'Fractional'},\n",
       "  {'FeatureName': 'v12', 'FeatureType': 'Fractional'},\n",
       "  {'FeatureName': 'v13', 'FeatureType': 'Fractional'},\n",
       "  {'FeatureName': 'v14', 'FeatureType': 'Fractional'},\n",
       "  {'FeatureName': 'v15', 'FeatureType': 'Fractional'},\n",
       "  {'FeatureName': 'v16', 'FeatureType': 'Fractional'},\n",
       "  {'FeatureName': 'v17', 'FeatureType': 'Fractional'},\n",
       "  {'FeatureName': 'v18', 'FeatureType': 'Fractional'},\n",
       "  {'FeatureName': 'v19', 'FeatureType': 'Fractional'},\n",
       "  {'FeatureName': 'v20', 'FeatureType': 'Fractional'},\n",
       "  {'FeatureName': 'v21', 'FeatureType': 'Fractional'},\n",
       "  {'FeatureName': 'v22', 'FeatureType': 'Fractional'},\n",
       "  {'FeatureName': 'v23', 'FeatureType': 'Fractional'},\n",
       "  {'FeatureName': 'v24', 'FeatureType': 'Fractional'},\n",
       "  {'FeatureName': 'v25', 'FeatureType': 'Fractional'},\n",
       "  {'FeatureName': 'v26', 'FeatureType': 'Fractional'},\n",
       "  {'FeatureName': 'v27', 'FeatureType': 'Fractional'},\n",
       "  {'FeatureName': 'v28', 'FeatureType': 'Fractional'},\n",
       "  {'FeatureName': 'amount', 'FeatureType': 'Fractional'},\n",
       "  {'FeatureName': 'class', 'FeatureType': 'Integral'},\n",
       "  {'FeatureName': 'event_time', 'FeatureType': 'Fractional'},\n",
       "  {'FeatureName': 'record_id', 'FeatureType': 'Integral'}],\n",
       " 'CreationTime': datetime.datetime(2021, 12, 14, 13, 17, 4, 924000, tzinfo=tzlocal()),\n",
       " 'OnlineStoreConfig': {'EnableOnlineStore': True},\n",
       " 'OfflineStoreConfig': {'S3StorageConfig': {'S3Uri': 's3://sagemaker-ap-south-1-080451317723/sagemaker-featurestore',\n",
       "   'ResolvedOutputS3Uri': 's3://sagemaker-ap-south-1-080451317723/sagemaker-featurestore/080451317723/sagemaker/ap-south-1/offline-store/transactionfeaturegroup-1639487824/data'},\n",
       "  'DisableGlueTableCreation': False,\n",
       "  'DataCatalogConfig': {'TableName': 'transactionfeaturegroup-1639487824',\n",
       "   'Catalog': 'AwsDataCatalog',\n",
       "   'Database': 'sagemaker_featurestore'}},\n",
       " 'RoleArn': 'arn:aws:iam::080451317723:role/service-role/AmazonSageMaker-ExecutionRole-20211126T134068',\n",
       " 'FeatureGroupStatus': 'Created',\n",
       " 'ResponseMetadata': {'RequestId': '0e7ed006-11f4-4271-90a2-ec30ba529e82',\n",
       "  'HTTPStatusCode': 200,\n",
       "  'HTTPHeaders': {'x-amzn-requestid': '0e7ed006-11f4-4271-90a2-ec30ba529e82',\n",
       "   'content-type': 'application/x-amz-json-1.1',\n",
       "   'content-length': '2957',\n",
       "   'date': 'Tue, 14 Dec 2021 13:17:20 GMT'},\n",
       "  'RetryAttempts': 0}}"
      ]
     },
     "execution_count": 9,
     "metadata": {},
     "output_type": "execute_result"
    }
   ],
   "source": [
    "#describing the feature group created automatically based on the data type of the columns.\n",
    "fd_feature_group.describe()"
   ]
  },
  {
   "cell_type": "markdown",
   "metadata": {},
   "source": [
    "#### Ingesting records into FeatureGroup\n"
   ]
  },
  {
   "cell_type": "code",
   "execution_count": 10,
   "metadata": {
    "scrolled": true
   },
   "outputs": [
    {
     "data": {
      "text/plain": [
       "IngestionManagerPandas(feature_group_name='transactionfeaturegroup', sagemaker_fs_runtime_client_config=<botocore.config.Config object at 0x7f71a1a4f490>, max_workers=3, max_processes=1, _async_result=<multiprocess.pool.MapResult object at 0x7f719fdbc950>, _processing_pool=<pool ProcessPool(ncpus=1)>, _failed_indices=[])"
      ]
     },
     "execution_count": 10,
     "metadata": {},
     "output_type": "execute_result"
    }
   ],
   "source": [
    "#Ingesting the data into feature group created above\n",
    "fd_feature_group.ingest(\n",
    "    data_frame=transaction_data, max_workers=3, wait=False\n",
    ")"
   ]
  },
  {
   "cell_type": "markdown",
   "metadata": {},
   "source": [
    "Fetching data to check"
   ]
  },
  {
   "cell_type": "code",
   "execution_count": 11,
   "metadata": {},
   "outputs": [
    {
     "data": {
      "text/plain": [
       "{'ResponseMetadata': {'RequestId': '7b5f872f-40c2-4d44-b90d-9a3e3dca5701',\n",
       "  'HTTPStatusCode': 200,\n",
       "  'HTTPHeaders': {'x-amzn-requestid': '7b5f872f-40c2-4d44-b90d-9a3e3dca5701',\n",
       "   'content-type': 'application/json',\n",
       "   'content-length': '15',\n",
       "   'date': 'Tue, 14 Dec 2021 13:17:20 GMT'},\n",
       "  'RetryAttempts': 0}}"
      ]
     },
     "execution_count": 11,
     "metadata": {},
     "output_type": "execute_result"
    }
   ],
   "source": [
    "record_identifier_value = str(100)\n",
    "\n",
    "featurestore_runtime.get_record(FeatureGroupName=fd_feature_group_name, RecordIdentifierValueAsString=record_identifier_value)"
   ]
  },
  {
   "cell_type": "code",
   "execution_count": 12,
   "metadata": {},
   "outputs": [
    {
     "name": "stdout",
     "output_type": "stream",
     "text": [
      "Stored 'fd_feature_group_name' (str)\n"
     ]
    }
   ],
   "source": [
    "%store fd_feature_group_name"
   ]
  },
  {
   "cell_type": "code",
   "execution_count": null,
   "metadata": {},
   "outputs": [],
   "source": []
  }
 ],
 "metadata": {
  "instance_type": "ml.t3.medium",
  "kernelspec": {
   "display_name": "Python 3 (Data Science)",
   "language": "python",
   "name": "python3__SAGEMAKER_INTERNAL__arn:aws:sagemaker:ap-south-1:394103062818:image/datascience-1.0"
  },
  "language_info": {
   "codemirror_mode": {
    "name": "ipython",
    "version": 3
   },
   "file_extension": ".py",
   "mimetype": "text/x-python",
   "name": "python",
   "nbconvert_exporter": "python",
   "pygments_lexer": "ipython3",
   "version": "3.7.10"
  }
 },
 "nbformat": 4,
 "nbformat_minor": 4
}
