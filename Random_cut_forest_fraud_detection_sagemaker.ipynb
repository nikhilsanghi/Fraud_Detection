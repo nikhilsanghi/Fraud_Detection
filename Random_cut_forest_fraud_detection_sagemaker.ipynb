{
 "cells": [
  {
   "cell_type": "markdown",
   "metadata": {},
   "source": [
    "## Train an Un-Supervised Random cut forest model using the data stored in feature store"
   ]
  },
  {
   "cell_type": "markdown",
   "metadata": {},
   "source": [
    "#### Setting up Sagemaker and feature store session"
   ]
  },
  {
   "cell_type": "code",
   "execution_count": 1,
   "metadata": {},
   "outputs": [],
   "source": [
    "# importing all the required libraries\n",
    "import boto3\n",
    "import sagemaker\n",
    "from sagemaker.session import Session\n",
    "\n",
    "#fetching the session region\n",
    "region = boto3.Session().region_name\n",
    "\n",
    "# creating a boto session\n",
    "boto_session = boto3.Session(region_name=region)\n",
    "\n",
    "# creating sagemaker and feature store sessions\n",
    "sagemaker_client = boto_session.client(service_name='sagemaker', region_name=region)\n",
    "featurestore_runtime = boto_session.client(service_name='sagemaker-featurestore-runtime', region_name=region)\n",
    "\n",
    "feature_store_session = Session(\n",
    "    boto_session=boto_session,\n",
    "    sagemaker_client=sagemaker_client,\n",
    "    sagemaker_featurestore_runtime_client=featurestore_runtime\n",
    ")"
   ]
  },
  {
   "cell_type": "markdown",
   "metadata": {},
   "source": [
    "#### getting the feature group "
   ]
  },
  {
   "cell_type": "code",
   "execution_count": 2,
   "metadata": {},
   "outputs": [],
   "source": [
    "%store -r"
   ]
  },
  {
   "cell_type": "code",
   "execution_count": 3,
   "metadata": {},
   "outputs": [],
   "source": [
    "from sagemaker.feature_store.feature_group import FeatureGroup\n",
    "\n",
    "# Fetching data from feature group\n",
    "fd_feature_group_name = 'transactionfeaturegroup'\n",
    "fd_feature_group = FeatureGroup(name=fd_feature_group_name, sagemaker_session=feature_store_session)"
   ]
  },
  {
   "cell_type": "markdown",
   "metadata": {},
   "source": [
    "## setting up the Training Dataset\n"
   ]
  },
  {
   "cell_type": "code",
   "execution_count": 4,
   "metadata": {},
   "outputs": [
    {
     "name": "stdout",
     "output_type": "stream",
     "text": [
      "sagemaker-ap-south-1-080451317723\n"
     ]
    }
   ],
   "source": [
    "# using the defualt bucket\n",
    "default_s3_bucket_name = feature_store_session.default_bucket()\n",
    "prefix = 'sagemaker-featurestore'\n",
    "\n",
    "print(default_s3_bucket_name)"
   ]
  },
  {
   "cell_type": "code",
   "execution_count": 5,
   "metadata": {},
   "outputs": [
    {
     "name": "stdout",
     "output_type": "stream",
     "text": [
      "transactionfeaturegroup-1639487824\n",
      "Running SELECT * FROM \"transactionfeaturegroup-1639487824\"\n"
     ]
    },
    {
     "data": {
      "text/html": [
       "<div>\n",
       "<style scoped>\n",
       "    .dataframe tbody tr th:only-of-type {\n",
       "        vertical-align: middle;\n",
       "    }\n",
       "\n",
       "    .dataframe tbody tr th {\n",
       "        vertical-align: top;\n",
       "    }\n",
       "\n",
       "    .dataframe thead th {\n",
       "        text-align: right;\n",
       "    }\n",
       "</style>\n",
       "<table border=\"1\" class=\"dataframe\">\n",
       "  <thead>\n",
       "    <tr style=\"text-align: right;\">\n",
       "      <th></th>\n",
       "      <th>time</th>\n",
       "      <th>v1</th>\n",
       "      <th>v2</th>\n",
       "      <th>v3</th>\n",
       "      <th>v4</th>\n",
       "      <th>v5</th>\n",
       "      <th>v6</th>\n",
       "      <th>v7</th>\n",
       "      <th>v8</th>\n",
       "      <th>v9</th>\n",
       "      <th>...</th>\n",
       "      <th>v26</th>\n",
       "      <th>v27</th>\n",
       "      <th>v28</th>\n",
       "      <th>amount</th>\n",
       "      <th>class</th>\n",
       "      <th>event_time</th>\n",
       "      <th>record_id</th>\n",
       "      <th>write_time</th>\n",
       "      <th>api_invocation_time</th>\n",
       "      <th>is_deleted</th>\n",
       "    </tr>\n",
       "  </thead>\n",
       "  <tbody>\n",
       "    <tr>\n",
       "      <th>0</th>\n",
       "      <td>151287.0</td>\n",
       "      <td>0.088863</td>\n",
       "      <td>0.729612</td>\n",
       "      <td>-0.366984</td>\n",
       "      <td>-0.731235</td>\n",
       "      <td>1.604282</td>\n",
       "      <td>0.720851</td>\n",
       "      <td>0.896757</td>\n",
       "      <td>0.155347</td>\n",
       "      <td>0.183897</td>\n",
       "      <td>...</td>\n",
       "      <td>0.183513</td>\n",
       "      <td>0.105804</td>\n",
       "      <td>-0.150822</td>\n",
       "      <td>9.27</td>\n",
       "      <td>0</td>\n",
       "      <td>1.639488e+09</td>\n",
       "      <td>242005</td>\n",
       "      <td>2021-12-14 13:28:21.042</td>\n",
       "      <td>2021-12-14 13:22:51.000</td>\n",
       "      <td>False</td>\n",
       "    </tr>\n",
       "    <tr>\n",
       "      <th>1</th>\n",
       "      <td>40667.0</td>\n",
       "      <td>1.355078</td>\n",
       "      <td>-0.724511</td>\n",
       "      <td>1.368546</td>\n",
       "      <td>-0.626317</td>\n",
       "      <td>-1.727245</td>\n",
       "      <td>-0.514134</td>\n",
       "      <td>-1.291331</td>\n",
       "      <td>0.010314</td>\n",
       "      <td>-0.250836</td>\n",
       "      <td>...</td>\n",
       "      <td>-0.044516</td>\n",
       "      <td>0.061437</td>\n",
       "      <td>0.034151</td>\n",
       "      <td>9.99</td>\n",
       "      <td>0</td>\n",
       "      <td>1.639488e+09</td>\n",
       "      <td>41408</td>\n",
       "      <td>2021-12-14 13:28:21.042</td>\n",
       "      <td>2021-12-14 13:22:51.000</td>\n",
       "      <td>False</td>\n",
       "    </tr>\n",
       "    <tr>\n",
       "      <th>2</th>\n",
       "      <td>124341.0</td>\n",
       "      <td>0.084587</td>\n",
       "      <td>1.026924</td>\n",
       "      <td>-0.211915</td>\n",
       "      <td>-0.437726</td>\n",
       "      <td>0.767183</td>\n",
       "      <td>-1.021523</td>\n",
       "      <td>0.973648</td>\n",
       "      <td>-0.126873</td>\n",
       "      <td>-0.117500</td>\n",
       "      <td>...</td>\n",
       "      <td>0.088517</td>\n",
       "      <td>0.226348</td>\n",
       "      <td>0.089582</td>\n",
       "      <td>4.49</td>\n",
       "      <td>0</td>\n",
       "      <td>1.639488e+09</td>\n",
       "      <td>180015</td>\n",
       "      <td>2021-12-14 13:28:21.042</td>\n",
       "      <td>2021-12-14 13:22:52.000</td>\n",
       "      <td>False</td>\n",
       "    </tr>\n",
       "    <tr>\n",
       "      <th>3</th>\n",
       "      <td>72605.0</td>\n",
       "      <td>1.106382</td>\n",
       "      <td>-0.182073</td>\n",
       "      <td>-1.692983</td>\n",
       "      <td>-1.465153</td>\n",
       "      <td>0.525804</td>\n",
       "      <td>-1.657673</td>\n",
       "      <td>1.336612</td>\n",
       "      <td>-0.626055</td>\n",
       "      <td>-0.168914</td>\n",
       "      <td>...</td>\n",
       "      <td>0.488529</td>\n",
       "      <td>-0.094244</td>\n",
       "      <td>-0.018595</td>\n",
       "      <td>128.81</td>\n",
       "      <td>0</td>\n",
       "      <td>1.639488e+09</td>\n",
       "      <td>112310</td>\n",
       "      <td>2021-12-14 13:28:21.042</td>\n",
       "      <td>2021-12-14 13:22:52.000</td>\n",
       "      <td>False</td>\n",
       "    </tr>\n",
       "    <tr>\n",
       "      <th>4</th>\n",
       "      <td>72347.0</td>\n",
       "      <td>-1.177816</td>\n",
       "      <td>1.316669</td>\n",
       "      <td>1.057519</td>\n",
       "      <td>1.570301</td>\n",
       "      <td>0.717973</td>\n",
       "      <td>-1.039204</td>\n",
       "      <td>0.806413</td>\n",
       "      <td>0.251177</td>\n",
       "      <td>-1.823729</td>\n",
       "      <td>...</td>\n",
       "      <td>-0.009782</td>\n",
       "      <td>-0.206820</td>\n",
       "      <td>-0.162201</td>\n",
       "      <td>6.05</td>\n",
       "      <td>0</td>\n",
       "      <td>1.639488e+09</td>\n",
       "      <td>111742</td>\n",
       "      <td>2021-12-14 13:28:21.042</td>\n",
       "      <td>2021-12-14 13:22:52.000</td>\n",
       "      <td>False</td>\n",
       "    </tr>\n",
       "    <tr>\n",
       "      <th>...</th>\n",
       "      <td>...</td>\n",
       "      <td>...</td>\n",
       "      <td>...</td>\n",
       "      <td>...</td>\n",
       "      <td>...</td>\n",
       "      <td>...</td>\n",
       "      <td>...</td>\n",
       "      <td>...</td>\n",
       "      <td>...</td>\n",
       "      <td>...</td>\n",
       "      <td>...</td>\n",
       "      <td>...</td>\n",
       "      <td>...</td>\n",
       "      <td>...</td>\n",
       "      <td>...</td>\n",
       "      <td>...</td>\n",
       "      <td>...</td>\n",
       "      <td>...</td>\n",
       "      <td>...</td>\n",
       "      <td>...</td>\n",
       "      <td>...</td>\n",
       "    </tr>\n",
       "    <tr>\n",
       "      <th>99995</th>\n",
       "      <td>125409.0</td>\n",
       "      <td>2.010149</td>\n",
       "      <td>0.093008</td>\n",
       "      <td>-1.612224</td>\n",
       "      <td>0.337610</td>\n",
       "      <td>0.405446</td>\n",
       "      <td>-0.576773</td>\n",
       "      <td>0.062787</td>\n",
       "      <td>-0.067284</td>\n",
       "      <td>0.241324</td>\n",
       "      <td>...</td>\n",
       "      <td>0.148692</td>\n",
       "      <td>-0.064047</td>\n",
       "      <td>-0.039637</td>\n",
       "      <td>1.98</td>\n",
       "      <td>0</td>\n",
       "      <td>1.639488e+09</td>\n",
       "      <td>182465</td>\n",
       "      <td>2021-12-14 13:27:51.927</td>\n",
       "      <td>2021-12-14 13:23:13.000</td>\n",
       "      <td>False</td>\n",
       "    </tr>\n",
       "    <tr>\n",
       "      <th>99996</th>\n",
       "      <td>61555.0</td>\n",
       "      <td>-1.786858</td>\n",
       "      <td>2.220376</td>\n",
       "      <td>-0.354501</td>\n",
       "      <td>-0.114401</td>\n",
       "      <td>-0.535980</td>\n",
       "      <td>-0.685306</td>\n",
       "      <td>-0.326123</td>\n",
       "      <td>1.226695</td>\n",
       "      <td>-0.590223</td>\n",
       "      <td>...</td>\n",
       "      <td>0.137403</td>\n",
       "      <td>0.097970</td>\n",
       "      <td>0.008434</td>\n",
       "      <td>11.99</td>\n",
       "      <td>0</td>\n",
       "      <td>1.639488e+09</td>\n",
       "      <td>87146</td>\n",
       "      <td>2021-12-14 13:27:51.927</td>\n",
       "      <td>2021-12-14 13:23:13.000</td>\n",
       "      <td>False</td>\n",
       "    </tr>\n",
       "    <tr>\n",
       "      <th>99997</th>\n",
       "      <td>74192.0</td>\n",
       "      <td>-0.565672</td>\n",
       "      <td>1.352774</td>\n",
       "      <td>0.937847</td>\n",
       "      <td>0.861238</td>\n",
       "      <td>0.063604</td>\n",
       "      <td>-0.343165</td>\n",
       "      <td>0.398966</td>\n",
       "      <td>0.365444</td>\n",
       "      <td>-0.916404</td>\n",
       "      <td>...</td>\n",
       "      <td>-0.304634</td>\n",
       "      <td>0.070989</td>\n",
       "      <td>0.099293</td>\n",
       "      <td>1.50</td>\n",
       "      <td>0</td>\n",
       "      <td>1.639488e+09</td>\n",
       "      <td>116232</td>\n",
       "      <td>2021-12-14 13:27:51.927</td>\n",
       "      <td>2021-12-14 13:23:13.000</td>\n",
       "      <td>False</td>\n",
       "    </tr>\n",
       "    <tr>\n",
       "      <th>99998</th>\n",
       "      <td>21846.0</td>\n",
       "      <td>-1.396917</td>\n",
       "      <td>-0.649990</td>\n",
       "      <td>1.450089</td>\n",
       "      <td>-1.704585</td>\n",
       "      <td>-2.496589</td>\n",
       "      <td>1.599768</td>\n",
       "      <td>1.568052</td>\n",
       "      <td>-0.189034</td>\n",
       "      <td>0.630655</td>\n",
       "      <td>...</td>\n",
       "      <td>-0.054341</td>\n",
       "      <td>0.391464</td>\n",
       "      <td>-0.031456</td>\n",
       "      <td>544.01</td>\n",
       "      <td>0</td>\n",
       "      <td>1.639488e+09</td>\n",
       "      <td>12456</td>\n",
       "      <td>2021-12-14 13:27:51.927</td>\n",
       "      <td>2021-12-14 13:23:13.000</td>\n",
       "      <td>False</td>\n",
       "    </tr>\n",
       "    <tr>\n",
       "      <th>99999</th>\n",
       "      <td>167032.0</td>\n",
       "      <td>-0.661520</td>\n",
       "      <td>-0.722317</td>\n",
       "      <td>1.439445</td>\n",
       "      <td>-2.110130</td>\n",
       "      <td>-0.289698</td>\n",
       "      <td>-0.951161</td>\n",
       "      <td>-0.305190</td>\n",
       "      <td>0.064561</td>\n",
       "      <td>-0.504968</td>\n",
       "      <td>...</td>\n",
       "      <td>-0.172078</td>\n",
       "      <td>0.098582</td>\n",
       "      <td>0.157863</td>\n",
       "      <td>50.00</td>\n",
       "      <td>0</td>\n",
       "      <td>1.639488e+09</td>\n",
       "      <td>276347</td>\n",
       "      <td>2021-12-14 13:27:51.927</td>\n",
       "      <td>2021-12-14 13:23:14.000</td>\n",
       "      <td>False</td>\n",
       "    </tr>\n",
       "  </tbody>\n",
       "</table>\n",
       "<p>100000 rows × 36 columns</p>\n",
       "</div>"
      ],
      "text/plain": [
       "           time        v1        v2        v3        v4        v5        v6  \\\n",
       "0      151287.0  0.088863  0.729612 -0.366984 -0.731235  1.604282  0.720851   \n",
       "1       40667.0  1.355078 -0.724511  1.368546 -0.626317 -1.727245 -0.514134   \n",
       "2      124341.0  0.084587  1.026924 -0.211915 -0.437726  0.767183 -1.021523   \n",
       "3       72605.0  1.106382 -0.182073 -1.692983 -1.465153  0.525804 -1.657673   \n",
       "4       72347.0 -1.177816  1.316669  1.057519  1.570301  0.717973 -1.039204   \n",
       "...         ...       ...       ...       ...       ...       ...       ...   \n",
       "99995  125409.0  2.010149  0.093008 -1.612224  0.337610  0.405446 -0.576773   \n",
       "99996   61555.0 -1.786858  2.220376 -0.354501 -0.114401 -0.535980 -0.685306   \n",
       "99997   74192.0 -0.565672  1.352774  0.937847  0.861238  0.063604 -0.343165   \n",
       "99998   21846.0 -1.396917 -0.649990  1.450089 -1.704585 -2.496589  1.599768   \n",
       "99999  167032.0 -0.661520 -0.722317  1.439445 -2.110130 -0.289698 -0.951161   \n",
       "\n",
       "             v7        v8        v9  ...       v26       v27       v28  \\\n",
       "0      0.896757  0.155347  0.183897  ...  0.183513  0.105804 -0.150822   \n",
       "1     -1.291331  0.010314 -0.250836  ... -0.044516  0.061437  0.034151   \n",
       "2      0.973648 -0.126873 -0.117500  ...  0.088517  0.226348  0.089582   \n",
       "3      1.336612 -0.626055 -0.168914  ...  0.488529 -0.094244 -0.018595   \n",
       "4      0.806413  0.251177 -1.823729  ... -0.009782 -0.206820 -0.162201   \n",
       "...         ...       ...       ...  ...       ...       ...       ...   \n",
       "99995  0.062787 -0.067284  0.241324  ...  0.148692 -0.064047 -0.039637   \n",
       "99996 -0.326123  1.226695 -0.590223  ...  0.137403  0.097970  0.008434   \n",
       "99997  0.398966  0.365444 -0.916404  ... -0.304634  0.070989  0.099293   \n",
       "99998  1.568052 -0.189034  0.630655  ... -0.054341  0.391464 -0.031456   \n",
       "99999 -0.305190  0.064561 -0.504968  ... -0.172078  0.098582  0.157863   \n",
       "\n",
       "       amount  class    event_time  record_id               write_time  \\\n",
       "0        9.27      0  1.639488e+09     242005  2021-12-14 13:28:21.042   \n",
       "1        9.99      0  1.639488e+09      41408  2021-12-14 13:28:21.042   \n",
       "2        4.49      0  1.639488e+09     180015  2021-12-14 13:28:21.042   \n",
       "3      128.81      0  1.639488e+09     112310  2021-12-14 13:28:21.042   \n",
       "4        6.05      0  1.639488e+09     111742  2021-12-14 13:28:21.042   \n",
       "...       ...    ...           ...        ...                      ...   \n",
       "99995    1.98      0  1.639488e+09     182465  2021-12-14 13:27:51.927   \n",
       "99996   11.99      0  1.639488e+09      87146  2021-12-14 13:27:51.927   \n",
       "99997    1.50      0  1.639488e+09     116232  2021-12-14 13:27:51.927   \n",
       "99998  544.01      0  1.639488e+09      12456  2021-12-14 13:27:51.927   \n",
       "99999   50.00      0  1.639488e+09     276347  2021-12-14 13:27:51.927   \n",
       "\n",
       "           api_invocation_time  is_deleted  \n",
       "0      2021-12-14 13:22:51.000       False  \n",
       "1      2021-12-14 13:22:51.000       False  \n",
       "2      2021-12-14 13:22:52.000       False  \n",
       "3      2021-12-14 13:22:52.000       False  \n",
       "4      2021-12-14 13:22:52.000       False  \n",
       "...                        ...         ...  \n",
       "99995  2021-12-14 13:23:13.000       False  \n",
       "99996  2021-12-14 13:23:13.000       False  \n",
       "99997  2021-12-14 13:23:13.000       False  \n",
       "99998  2021-12-14 13:23:13.000       False  \n",
       "99999  2021-12-14 13:23:14.000       False  \n",
       "\n",
       "[100000 rows x 36 columns]"
      ]
     },
     "execution_count": 5,
     "metadata": {},
     "output_type": "execute_result"
    }
   ],
   "source": [
    "# running athena query to get all the data from the feature group tables\n",
    "transaction_query = fd_feature_group.athena_query()\n",
    "\n",
    "transaction_table = transaction_query.table_name\n",
    "\n",
    "print(transaction_table)\n",
    "\n",
    "query_string = 'SELECT * FROM \"'+transaction_table+'\"'\n",
    "print('Running ' + query_string)\n",
    "\n",
    "# running the query and storing the results into data set variable as pandas dataframe\n",
    "transaction_query.run(query_string=query_string, output_location='s3://'+default_s3_bucket_name+'/'+prefix+'/query_results/')\n",
    "transaction_query.wait()\n",
    "dataset = transaction_query.as_dataframe()\n",
    "\n",
    "dataset"
   ]
  },
  {
   "cell_type": "code",
   "execution_count": 6,
   "metadata": {},
   "outputs": [],
   "source": [
    "# selecting the useful columns for our dataset\n",
    "dataset = dataset[['time', 'v1', 'v2', 'v3', 'v4', 'v5', 'v6', 'v7', 'v8', 'v9', 'v10',\n",
    "       'v11', 'v12', 'v13', 'v14', 'v15', 'v16', 'v17', 'v18', 'v19', 'v20',\n",
    "       'v21', 'v22', 'v23', 'v24', 'v25', 'v26', 'v27', 'v28', 'amount',\n",
    "       'class']]\n"
   ]
  },
  {
   "cell_type": "code",
   "execution_count": 7,
   "metadata": {},
   "outputs": [],
   "source": [
    "# dropping all the NANs\n",
    "dataset = dataset.dropna()"
   ]
  },
  {
   "cell_type": "code",
   "execution_count": 8,
   "metadata": {},
   "outputs": [
    {
     "name": "stdout",
     "output_type": "stream",
     "text": [
      "Number of frauds:  172\n",
      "Number of non-frauds:  99828\n",
      "Percentage of fradulent data: 0.172\n"
     ]
    }
   ],
   "source": [
    "# finding out the total number of cases by classes\n",
    "nonfrauds, frauds = dataset.groupby('class').size()\n",
    "print('Number of frauds: ', frauds)\n",
    "print('Number of non-frauds: ', nonfrauds)\n",
    "print('Percentage of fradulent data:', 100.*frauds/(frauds + nonfrauds))"
   ]
  },
  {
   "cell_type": "code",
   "execution_count": 9,
   "metadata": {},
   "outputs": [],
   "source": [
    "#segregating the feature and label columns\n",
    "feature_columns = dataset.columns[:-1]\n",
    "label_column = dataset.columns[-1]\n",
    "\n",
    "# storing the columns separately\n",
    "features = dataset[feature_columns].values.astype('float32')\n",
    "labels = (dataset[label_column].values).astype('float32')"
   ]
  },
  {
   "cell_type": "code",
   "execution_count": 10,
   "metadata": {},
   "outputs": [],
   "source": [
    "from sklearn.model_selection import train_test_split\n",
    "# dividing the data into test and train splits\n",
    "X_train, X_test, y_train, y_test = train_test_split(\n",
    "    features, labels, test_size=0.1, random_state=42)\n"
   ]
  },
  {
   "cell_type": "markdown",
   "metadata": {},
   "source": [
    "\n",
    "## Training the data\n"
   ]
  },
  {
   "cell_type": "code",
   "execution_count": 11,
   "metadata": {},
   "outputs": [],
   "source": [
    "import os\n",
    "import sagemaker\n",
    "# creating the sagemaker sessions\n",
    "session = sagemaker.Session()\n",
    "bucket = default_s3_bucket_name\n",
    "prefix = 'rcf-fraud-classifier'"
   ]
  },
  {
   "cell_type": "code",
   "execution_count": 12,
   "metadata": {},
   "outputs": [],
   "source": [
    "# fetching the IAM role\n",
    "sagemaker_iam_role = sagemaker.get_execution_role()"
   ]
  },
  {
   "cell_type": "code",
   "execution_count": 13,
   "metadata": {},
   "outputs": [],
   "source": [
    "from sagemaker import RandomCutForest\n",
    "\n",
    "# initialising the parameters for the training job\n",
    "rcf = RandomCutForest(role=sagemaker_iam_role,\n",
    "                      instance_count=1,\n",
    "                      instance_type=\"ml.m5.xlarge\",\n",
    "                      data_location='s3://{}/{}/'.format(bucket, prefix),\n",
    "                      output_path='s3://{}/{}/output'.format(bucket, prefix),\n",
    "                      base_job_name=\"{}-rcf\".format(\"fraud-detection\"),\n",
    "                      num_samples_per_tree=512,\n",
    "                      num_trees=50)"
   ]
  },
  {
   "cell_type": "code",
   "execution_count": 14,
   "metadata": {
    "scrolled": true
   },
   "outputs": [
    {
     "name": "stderr",
     "output_type": "stream",
     "text": [
      "Defaulting to the only supported framework/algorithm version: 1. Ignoring framework/algorithm version: 1.\n"
     ]
    },
    {
     "name": "stdout",
     "output_type": "stream",
     "text": [
      "2021-12-14 17:01:52 Starting - Starting the training job...\n",
      "2021-12-14 17:01:54 Starting - Launching requested ML instancesProfilerReport-1639501312: InProgress\n",
      "...\n",
      "2021-12-14 17:02:43 Starting - Preparing the instances for training......\n",
      "2021-12-14 17:03:47 Downloading - Downloading input data\n",
      "2021-12-14 17:03:47 Training - Downloading the training image...\n",
      "2021-12-14 17:04:22 Training - Training image download completed. Training in progress..\u001b[34mDocker entrypoint called with argument(s): train\u001b[0m\n",
      "\u001b[34mRunning default environment configuration script\u001b[0m\n",
      "\u001b[34m[12/14/2021 17:04:24 INFO 139672757847872] Reading default configuration from /opt/amazon/lib/python3.7/site-packages/algorithm/resources/default-conf.json: {'num_samples_per_tree': 256, 'num_trees': 100, 'force_dense': 'true', 'eval_metrics': ['accuracy', 'precision_recall_fscore'], 'epochs': 1, 'mini_batch_size': 1000, '_log_level': 'info', '_kvstore': 'dist_async', '_num_kv_servers': 'auto', '_num_gpus': 'auto', '_tuning_objective_metric': '', '_ftp_port': 8999}\u001b[0m\n",
      "\u001b[34m[12/14/2021 17:04:24 INFO 139672757847872] Merging with provided configuration from /opt/ml/input/config/hyperparameters.json: {'num_trees': '50', 'num_samples_per_tree': '512', 'feature_dim': '30', 'mini_batch_size': '1000'}\u001b[0m\n",
      "\u001b[34m[12/14/2021 17:04:24 INFO 139672757847872] Final configuration: {'num_samples_per_tree': '512', 'num_trees': '50', 'force_dense': 'true', 'eval_metrics': ['accuracy', 'precision_recall_fscore'], 'epochs': 1, 'mini_batch_size': '1000', '_log_level': 'info', '_kvstore': 'dist_async', '_num_kv_servers': 'auto', '_num_gpus': 'auto', '_tuning_objective_metric': '', '_ftp_port': 8999, 'feature_dim': '30'}\u001b[0m\n",
      "\u001b[34m[12/14/2021 17:04:24 WARNING 139672757847872] Loggers have already been setup.\u001b[0m\n",
      "\u001b[34m[12/14/2021 17:04:24 INFO 139672757847872] Launching parameter server for role scheduler\u001b[0m\n",
      "\u001b[34m[12/14/2021 17:04:24 INFO 139672757847872] {'ENVROOT': '/opt/amazon', 'PROTOCOL_BUFFERS_PYTHON_IMPLEMENTATION': 'cpp', 'HOSTNAME': 'ip-10-0-114-160.ap-south-1.compute.internal', 'TRAINING_JOB_NAME': 'fraud-detection-rcf-2021-12-14-17-01-52-095', 'NVIDIA_REQUIRE_CUDA': 'cuda>=9.0', 'TRAINING_JOB_ARN': 'arn:aws:sagemaker:ap-south-1:080451317723:training-job/fraud-detection-rcf-2021-12-14-17-01-52-095', 'AWS_CONTAINER_CREDENTIALS_RELATIVE_URI': '/v2/credentials/b489cf5c-c0a1-4a94-80d3-8a7c8ac2b1c1', 'CANONICAL_ENVROOT': '/opt/amazon', 'PYTHONUNBUFFERED': 'TRUE', 'NVIDIA_VISIBLE_DEVICES': 'void', 'LD_LIBRARY_PATH': '/opt/amazon/lib/python3.7/site-packages/cv2/../../../../lib:/usr/local/nvidia/lib64:/opt/amazon/lib', 'MXNET_KVSTORE_BIGARRAY_BOUND': '400000000', 'NVIDIA_DRIVER_CAPABILITIES': 'compute,utility', 'AWS_EXECUTION_ENV': 'AWS_ECS_EC2', 'PATH': '/opt/amazon/bin:/usr/local/nvidia/bin:/usr/local/sbin:/usr/local/bin:/usr/sbin:/usr/bin:/sbin:/bin:/opt/amazon/bin:/opt/amazon/bin', 'PWD': '/', 'LANG': 'en_US.utf8', 'SAGEMAKER_METRICS_DIRECTORY': '/opt/ml/output/metrics/sagemaker', 'AWS_REGION': 'ap-south-1', 'HOME': '/root', 'SHLVL': '1', 'PROTOCOL_BUFFERS_PYTHON_IMPLEMENTATION_VERSION': '2', 'OMP_NUM_THREADS': '2', 'ECS_CONTAINER_METADATA_URI': 'http://169.254.170.2/v3/61159bdc-a8cf-4a21-96c9-efca6066a6bf', 'DMLC_INTERFACE': 'eth0', 'ECS_CONTAINER_METADATA_URI_V4': 'http://169.254.170.2/v4/61159bdc-a8cf-4a21-96c9-efca6066a6bf', 'SAGEMAKER_HTTP_PORT': '8080', 'SAGEMAKER_DATA_PATH': '/opt/ml', 'KMP_DUPLICATE_LIB_OK': 'True', 'KMP_INIT_AT_FORK': 'FALSE'}\u001b[0m\n",
      "\u001b[34m[12/14/2021 17:04:24 INFO 139672757847872] envs={'ENVROOT': '/opt/amazon', 'PROTOCOL_BUFFERS_PYTHON_IMPLEMENTATION': 'cpp', 'HOSTNAME': 'ip-10-0-114-160.ap-south-1.compute.internal', 'TRAINING_JOB_NAME': 'fraud-detection-rcf-2021-12-14-17-01-52-095', 'NVIDIA_REQUIRE_CUDA': 'cuda>=9.0', 'TRAINING_JOB_ARN': 'arn:aws:sagemaker:ap-south-1:080451317723:training-job/fraud-detection-rcf-2021-12-14-17-01-52-095', 'AWS_CONTAINER_CREDENTIALS_RELATIVE_URI': '/v2/credentials/b489cf5c-c0a1-4a94-80d3-8a7c8ac2b1c1', 'CANONICAL_ENVROOT': '/opt/amazon', 'PYTHONUNBUFFERED': 'TRUE', 'NVIDIA_VISIBLE_DEVICES': 'void', 'LD_LIBRARY_PATH': '/opt/amazon/lib/python3.7/site-packages/cv2/../../../../lib:/usr/local/nvidia/lib64:/opt/amazon/lib', 'MXNET_KVSTORE_BIGARRAY_BOUND': '400000000', 'NVIDIA_DRIVER_CAPABILITIES': 'compute,utility', 'AWS_EXECUTION_ENV': 'AWS_ECS_EC2', 'PATH': '/opt/amazon/bin:/usr/local/nvidia/bin:/usr/local/sbin:/usr/local/bin:/usr/sbin:/usr/bin:/sbin:/bin:/opt/amazon/bin:/opt/amazon/bin', 'PWD': '/', 'LANG': 'en_US.utf8', 'SAGEMAKER_METRICS_DIRECTORY': '/opt/ml/output/metrics/sagemaker', 'AWS_REGION': 'ap-south-1', 'HOME': '/root', 'SHLVL': '1', 'PROTOCOL_BUFFERS_PYTHON_IMPLEMENTATION_VERSION': '2', 'OMP_NUM_THREADS': '2', 'ECS_CONTAINER_METADATA_URI': 'http://169.254.170.2/v3/61159bdc-a8cf-4a21-96c9-efca6066a6bf', 'DMLC_INTERFACE': 'eth0', 'ECS_CONTAINER_METADATA_URI_V4': 'http://169.254.170.2/v4/61159bdc-a8cf-4a21-96c9-efca6066a6bf', 'SAGEMAKER_HTTP_PORT': '8080', 'SAGEMAKER_DATA_PATH': '/opt/ml', 'KMP_DUPLICATE_LIB_OK': 'True', 'KMP_INIT_AT_FORK': 'FALSE', 'DMLC_ROLE': 'scheduler', 'DMLC_PS_ROOT_URI': '10.0.114.160', 'DMLC_PS_ROOT_PORT': '9000', 'DMLC_NUM_SERVER': '1', 'DMLC_NUM_WORKER': '1'}\u001b[0m\n",
      "\u001b[34m[12/14/2021 17:04:24 INFO 139672757847872] Launching parameter server for role server\u001b[0m\n",
      "\u001b[34m[12/14/2021 17:04:24 INFO 139672757847872] {'ENVROOT': '/opt/amazon', 'PROTOCOL_BUFFERS_PYTHON_IMPLEMENTATION': 'cpp', 'HOSTNAME': 'ip-10-0-114-160.ap-south-1.compute.internal', 'TRAINING_JOB_NAME': 'fraud-detection-rcf-2021-12-14-17-01-52-095', 'NVIDIA_REQUIRE_CUDA': 'cuda>=9.0', 'TRAINING_JOB_ARN': 'arn:aws:sagemaker:ap-south-1:080451317723:training-job/fraud-detection-rcf-2021-12-14-17-01-52-095', 'AWS_CONTAINER_CREDENTIALS_RELATIVE_URI': '/v2/credentials/b489cf5c-c0a1-4a94-80d3-8a7c8ac2b1c1', 'CANONICAL_ENVROOT': '/opt/amazon', 'PYTHONUNBUFFERED': 'TRUE', 'NVIDIA_VISIBLE_DEVICES': 'void', 'LD_LIBRARY_PATH': '/opt/amazon/lib/python3.7/site-packages/cv2/../../../../lib:/usr/local/nvidia/lib64:/opt/amazon/lib', 'MXNET_KVSTORE_BIGARRAY_BOUND': '400000000', 'NVIDIA_DRIVER_CAPABILITIES': 'compute,utility', 'AWS_EXECUTION_ENV': 'AWS_ECS_EC2', 'PATH': '/opt/amazon/bin:/usr/local/nvidia/bin:/usr/local/sbin:/usr/local/bin:/usr/sbin:/usr/bin:/sbin:/bin:/opt/amazon/bin:/opt/amazon/bin', 'PWD': '/', 'LANG': 'en_US.utf8', 'SAGEMAKER_METRICS_DIRECTORY': '/opt/ml/output/metrics/sagemaker', 'AWS_REGION': 'ap-south-1', 'HOME': '/root', 'SHLVL': '1', 'PROTOCOL_BUFFERS_PYTHON_IMPLEMENTATION_VERSION': '2', 'OMP_NUM_THREADS': '2', 'ECS_CONTAINER_METADATA_URI': 'http://169.254.170.2/v3/61159bdc-a8cf-4a21-96c9-efca6066a6bf', 'DMLC_INTERFACE': 'eth0', 'ECS_CONTAINER_METADATA_URI_V4': 'http://169.254.170.2/v4/61159bdc-a8cf-4a21-96c9-efca6066a6bf', 'SAGEMAKER_HTTP_PORT': '8080', 'SAGEMAKER_DATA_PATH': '/opt/ml', 'KMP_DUPLICATE_LIB_OK': 'True', 'KMP_INIT_AT_FORK': 'FALSE'}\u001b[0m\n",
      "\u001b[34m[12/14/2021 17:04:24 INFO 139672757847872] envs={'ENVROOT': '/opt/amazon', 'PROTOCOL_BUFFERS_PYTHON_IMPLEMENTATION': 'cpp', 'HOSTNAME': 'ip-10-0-114-160.ap-south-1.compute.internal', 'TRAINING_JOB_NAME': 'fraud-detection-rcf-2021-12-14-17-01-52-095', 'NVIDIA_REQUIRE_CUDA': 'cuda>=9.0', 'TRAINING_JOB_ARN': 'arn:aws:sagemaker:ap-south-1:080451317723:training-job/fraud-detection-rcf-2021-12-14-17-01-52-095', 'AWS_CONTAINER_CREDENTIALS_RELATIVE_URI': '/v2/credentials/b489cf5c-c0a1-4a94-80d3-8a7c8ac2b1c1', 'CANONICAL_ENVROOT': '/opt/amazon', 'PYTHONUNBUFFERED': 'TRUE', 'NVIDIA_VISIBLE_DEVICES': 'void', 'LD_LIBRARY_PATH': '/opt/amazon/lib/python3.7/site-packages/cv2/../../../../lib:/usr/local/nvidia/lib64:/opt/amazon/lib', 'MXNET_KVSTORE_BIGARRAY_BOUND': '400000000', 'NVIDIA_DRIVER_CAPABILITIES': 'compute,utility', 'AWS_EXECUTION_ENV': 'AWS_ECS_EC2', 'PATH': '/opt/amazon/bin:/usr/local/nvidia/bin:/usr/local/sbin:/usr/local/bin:/usr/sbin:/usr/bin:/sbin:/bin:/opt/amazon/bin:/opt/amazon/bin', 'PWD': '/', 'LANG': 'en_US.utf8', 'SAGEMAKER_METRICS_DIRECTORY': '/opt/ml/output/metrics/sagemaker', 'AWS_REGION': 'ap-south-1', 'HOME': '/root', 'SHLVL': '1', 'PROTOCOL_BUFFERS_PYTHON_IMPLEMENTATION_VERSION': '2', 'OMP_NUM_THREADS': '2', 'ECS_CONTAINER_METADATA_URI': 'http://169.254.170.2/v3/61159bdc-a8cf-4a21-96c9-efca6066a6bf', 'DMLC_INTERFACE': 'eth0', 'ECS_CONTAINER_METADATA_URI_V4': 'http://169.254.170.2/v4/61159bdc-a8cf-4a21-96c9-efca6066a6bf', 'SAGEMAKER_HTTP_PORT': '8080', 'SAGEMAKER_DATA_PATH': '/opt/ml', 'KMP_DUPLICATE_LIB_OK': 'True', 'KMP_INIT_AT_FORK': 'FALSE', 'DMLC_ROLE': 'server', 'DMLC_PS_ROOT_URI': '10.0.114.160', 'DMLC_PS_ROOT_PORT': '9000', 'DMLC_NUM_SERVER': '1', 'DMLC_NUM_WORKER': '1'}\u001b[0m\n",
      "\u001b[34m[12/14/2021 17:04:24 INFO 139672757847872] Environment: {'ENVROOT': '/opt/amazon', 'PROTOCOL_BUFFERS_PYTHON_IMPLEMENTATION': 'cpp', 'HOSTNAME': 'ip-10-0-114-160.ap-south-1.compute.internal', 'TRAINING_JOB_NAME': 'fraud-detection-rcf-2021-12-14-17-01-52-095', 'NVIDIA_REQUIRE_CUDA': 'cuda>=9.0', 'TRAINING_JOB_ARN': 'arn:aws:sagemaker:ap-south-1:080451317723:training-job/fraud-detection-rcf-2021-12-14-17-01-52-095', 'AWS_CONTAINER_CREDENTIALS_RELATIVE_URI': '/v2/credentials/b489cf5c-c0a1-4a94-80d3-8a7c8ac2b1c1', 'CANONICAL_ENVROOT': '/opt/amazon', 'PYTHONUNBUFFERED': 'TRUE', 'NVIDIA_VISIBLE_DEVICES': 'void', 'LD_LIBRARY_PATH': '/opt/amazon/lib/python3.7/site-packages/cv2/../../../../lib:/usr/local/nvidia/lib64:/opt/amazon/lib', 'MXNET_KVSTORE_BIGARRAY_BOUND': '400000000', 'NVIDIA_DRIVER_CAPABILITIES': 'compute,utility', 'AWS_EXECUTION_ENV': 'AWS_ECS_EC2', 'PATH': '/opt/amazon/bin:/usr/local/nvidia/bin:/usr/local/sbin:/usr/local/bin:/usr/sbin:/usr/bin:/sbin:/bin:/opt/amazon/bin:/opt/amazon/bin', 'PWD': '/', 'LANG': 'en_US.utf8', 'SAGEMAKER_METRICS_DIRECTORY': '/opt/ml/output/metrics/sagemaker', 'AWS_REGION': 'ap-south-1', 'HOME': '/root', 'SHLVL': '1', 'PROTOCOL_BUFFERS_PYTHON_IMPLEMENTATION_VERSION': '2', 'OMP_NUM_THREADS': '2', 'ECS_CONTAINER_METADATA_URI': 'http://169.254.170.2/v3/61159bdc-a8cf-4a21-96c9-efca6066a6bf', 'DMLC_INTERFACE': 'eth0', 'ECS_CONTAINER_METADATA_URI_V4': 'http://169.254.170.2/v4/61159bdc-a8cf-4a21-96c9-efca6066a6bf', 'SAGEMAKER_HTTP_PORT': '8080', 'SAGEMAKER_DATA_PATH': '/opt/ml', 'KMP_DUPLICATE_LIB_OK': 'True', 'KMP_INIT_AT_FORK': 'FALSE', 'DMLC_ROLE': 'worker', 'DMLC_PS_ROOT_URI': '10.0.114.160', 'DMLC_PS_ROOT_PORT': '9000', 'DMLC_NUM_SERVER': '1', 'DMLC_NUM_WORKER': '1'}\u001b[0m\n",
      "\u001b[34mProcess 35 is a shell:scheduler.\u001b[0m\n",
      "\u001b[34mProcess 44 is a shell:server.\u001b[0m\n",
      "\u001b[34mProcess 1 is a worker.\u001b[0m\n",
      "\u001b[34m[12/14/2021 17:04:24 INFO 139672757847872] Using default worker.\u001b[0m\n",
      "\u001b[34m[12/14/2021 17:04:24 INFO 139672757847872] Loaded iterator creator application/x-recordio-protobuf for content type ('application/x-recordio-protobuf', '1.0')\u001b[0m\n",
      "\u001b[34m[12/14/2021 17:04:24 INFO 139672757847872] Checkpoint loading and saving are disabled.\u001b[0m\n",
      "\u001b[34m[12/14/2021 17:04:24 INFO 139672757847872] Verifying hyperparamemters...\u001b[0m\n",
      "\u001b[34m[12/14/2021 17:04:24 INFO 139672757847872] Hyperparameters are correct.\u001b[0m\n",
      "\u001b[34m[12/14/2021 17:04:24 INFO 139672757847872] Validating that feature_dim agrees with dimensions in training data...\u001b[0m\n",
      "\u001b[34m[12/14/2021 17:04:24 INFO 139672757847872] feature_dim is correct.\u001b[0m\n",
      "\u001b[34m[12/14/2021 17:04:24 INFO 139672757847872] Validating memory limits...\u001b[0m\n",
      "\u001b[34m[12/14/2021 17:04:24 INFO 139672757847872] Available memory in bytes: 14793555968\u001b[0m\n",
      "\u001b[34m[12/14/2021 17:04:24 INFO 139672757847872] Estimated sample size in bytes: 6144000\u001b[0m\n",
      "\u001b[34m[12/14/2021 17:04:24 INFO 139672757847872] Estimated memory needed to build the forest in bytes: 30720000\u001b[0m\n",
      "\u001b[34m[12/14/2021 17:04:24 INFO 139672757847872] Memory limits validated.\u001b[0m\n",
      "\u001b[34m[12/14/2021 17:04:24 INFO 139672757847872] Starting cluster sharing facilities...\u001b[0m\n",
      "\u001b[34m[12/14/2021 17:04:24 INFO 139671237543680] concurrency model: async\u001b[0m\n",
      "\u001b[34m[12/14/2021 17:04:24 INFO 139671237543680] masquerade (NAT) address: None\u001b[0m\n",
      "\u001b[34m[12/14/2021 17:04:24 INFO 139671237543680] passive ports: None\u001b[0m\n",
      "\u001b[34m[12/14/2021 17:04:24 INFO 139671237543680] >>> starting FTP server on 0.0.0.0:8999, pid=1 <<<\u001b[0m\n",
      "\u001b[34m[12/14/2021 17:04:24 INFO 139672757847872] Create Store: dist_async\u001b[0m\n",
      "\u001b[34m[12/14/2021 17:04:25 INFO 139672757847872] Cluster sharing facilities started.\u001b[0m\n",
      "\u001b[34m[12/14/2021 17:04:25 INFO 139672757847872] Verifying all workers are accessible...\u001b[0m\n",
      "\u001b[34m[12/14/2021 17:04:25 INFO 139672757847872] All workers accessible.\u001b[0m\n",
      "\u001b[34m[12/14/2021 17:04:25 INFO 139672757847872] Initializing Sampler...\u001b[0m\n",
      "\u001b[34m[12/14/2021 17:04:25 INFO 139672757847872] Sampler correctly initialized.\u001b[0m\n",
      "\u001b[34m#metrics {\"StartTime\": 1639501464.5404818, \"EndTime\": 1639501465.6693044, \"Dimensions\": {\"Algorithm\": \"RandomCutForest\", \"Host\": \"algo-1\", \"Operation\": \"training\"}, \"Metrics\": {\"initialize.time\": {\"sum\": 1123.1274604797363, \"count\": 1, \"min\": 1123.1274604797363, \"max\": 1123.1274604797363}}}\u001b[0m\n",
      "\u001b[34m#metrics {\"StartTime\": 1639501465.6694782, \"EndTime\": 1639501465.669517, \"Dimensions\": {\"Algorithm\": \"RandomCutForest\", \"Host\": \"algo-1\", \"Operation\": \"training\", \"Meta\": \"init_train_data_iter\"}, \"Metrics\": {\"Total Records Seen\": {\"sum\": 0.0, \"count\": 1, \"min\": 0, \"max\": 0}, \"Total Batches Seen\": {\"sum\": 0.0, \"count\": 1, \"min\": 0, \"max\": 0}, \"Max Records Seen Between Resets\": {\"sum\": 0.0, \"count\": 1, \"min\": 0, \"max\": 0}, \"Max Batches Seen Between Resets\": {\"sum\": 0.0, \"count\": 1, \"min\": 0, \"max\": 0}, \"Reset Count\": {\"sum\": 0.0, \"count\": 1, \"min\": 0, \"max\": 0}, \"Number of Records Since Last Reset\": {\"sum\": 0.0, \"count\": 1, \"min\": 0, \"max\": 0}, \"Number of Batches Since Last Reset\": {\"sum\": 0.0, \"count\": 1, \"min\": 0, \"max\": 0}}}\u001b[0m\n",
      "\u001b[34m[2021-12-14 17:04:25.670] [tensorio] [info] epoch_stats={\"data_pipeline\": \"/opt/ml/input/data/train\", \"epoch\": 0, \"duration\": 1129, \"num_examples\": 1, \"num_bytes\": 148000}\u001b[0m\n",
      "\u001b[34m[12/14/2021 17:04:25 INFO 139672757847872] Sampling training data...\u001b[0m\n",
      "\u001b[34m[2021-12-14 17:04:25.765] [tensorio] [info] epoch_stats={\"data_pipeline\": \"/opt/ml/input/data/train\", \"epoch\": 1, \"duration\": 94, \"num_examples\": 90, \"num_bytes\": 13320000}\u001b[0m\n",
      "\u001b[34m[12/14/2021 17:04:25 INFO 139672757847872] Sampling training data completed.\u001b[0m\n",
      "\u001b[34m#metrics {\"StartTime\": 1639501465.669432, \"EndTime\": 1639501465.7765176, \"Dimensions\": {\"Algorithm\": \"RandomCutForest\", \"Host\": \"algo-1\", \"Operation\": \"training\"}, \"Metrics\": {\"epochs\": {\"sum\": 1.0, \"count\": 1, \"min\": 1, \"max\": 1}, \"update.time\": {\"sum\": 106.25576972961426, \"count\": 1, \"min\": 106.25576972961426, \"max\": 106.25576972961426}}}\u001b[0m\n",
      "\u001b[34m[12/14/2021 17:04:25 INFO 139672757847872] Early stop condition met. Stopping training.\u001b[0m\n",
      "\u001b[34m[12/14/2021 17:04:25 INFO 139672757847872] #progress_metric: host=algo-1, completed 100 % epochs\u001b[0m\n",
      "\u001b[34m#metrics {\"StartTime\": 1639501465.6702247, \"EndTime\": 1639501465.7768385, \"Dimensions\": {\"Algorithm\": \"RandomCutForest\", \"Host\": \"algo-1\", \"Operation\": \"training\", \"epoch\": 0, \"Meta\": \"training_data_iter\"}, \"Metrics\": {\"Total Records Seen\": {\"sum\": 90000.0, \"count\": 1, \"min\": 90000, \"max\": 90000}, \"Total Batches Seen\": {\"sum\": 90.0, \"count\": 1, \"min\": 90, \"max\": 90}, \"Max Records Seen Between Resets\": {\"sum\": 90000.0, \"count\": 1, \"min\": 90000, \"max\": 90000}, \"Max Batches Seen Between Resets\": {\"sum\": 90.0, \"count\": 1, \"min\": 90, \"max\": 90}, \"Reset Count\": {\"sum\": 1.0, \"count\": 1, \"min\": 1, \"max\": 1}, \"Number of Records Since Last Reset\": {\"sum\": 90000.0, \"count\": 1, \"min\": 90000, \"max\": 90000}, \"Number of Batches Since Last Reset\": {\"sum\": 90.0, \"count\": 1, \"min\": 90, \"max\": 90}}}\u001b[0m\n",
      "\u001b[34m[12/14/2021 17:04:25 INFO 139672757847872] #throughput_metric: host=algo-1, train throughput=843249.444888732 records/second\u001b[0m\n",
      "\u001b[34m[12/14/2021 17:04:25 INFO 139672757847872] Master node: building Random Cut Forest...\u001b[0m\n",
      "\u001b[34m[12/14/2021 17:04:25 INFO 139672757847872] Gathering samples...\u001b[0m\n",
      "\u001b[34m[12/14/2021 17:04:25 INFO 139672757847872] 25600 samples gathered\u001b[0m\n",
      "\u001b[34m[12/14/2021 17:04:25 INFO 139672757847872] Building Random Cut Forest...\u001b[0m\n",
      "\u001b[34m[12/14/2021 17:04:25 INFO 139672757847872] Random Cut Forest built: \u001b[0m\n",
      "\u001b[34mForestInfo{num_trees: 50, num_samples_in_forest: 25600, num_samples_per_tree: 512, sample_dim: 30, shingle_size: 1, trees_num_nodes: [879, 913, 897, 887, 903, 893, 917, 885, 895, 909, 893, 907, 903, 881, 897, 903, 895, 911, 925, 905, 911, 897, 905, 929, 911, 897, 921, 897, 901, 917, 895, 907, 903, 893, 919, 895, 903, 915, 921, 905, 919, 907, 905, 911, 901, 901, 883, 907, 901, 879, ], trees_depth: [20, 20, 23, 23, 17, 21, 23, 21, 25, 21, 19, 20, 20, 17, 18, 21, 23, 22, 20, 22, 19, 19, 21, 24, 23, 20, 21, 18, 26, 18, 20, 20, 18, 21, 23, 21, 20, 26, 26, 21, 21, 19, 21, 21, 22, 19, 20, 20, 20, 24, ], max_num_nodes: 929, min_num_nodes: 879, avg_num_nodes: 903, max_tree_depth: 26, min_tree_depth: 17, avg_tree_depth: 20, mem_size: 25647920}\u001b[0m\n",
      "\u001b[34m#metrics {\"StartTime\": 1639501465.7765963, \"EndTime\": 1639501465.85027, \"Dimensions\": {\"Algorithm\": \"RandomCutForest\", \"Host\": \"algo-1\", \"Operation\": \"training\"}, \"Metrics\": {\"fit_model.time\": {\"sum\": 53.44343185424805, \"count\": 1, \"min\": 53.44343185424805, \"max\": 53.44343185424805}, \"model.bytes\": {\"sum\": 25647920.0, \"count\": 1, \"min\": 25647920, \"max\": 25647920}, \"finalize.time\": {\"sum\": 73.14705848693848, \"count\": 1, \"min\": 73.14705848693848, \"max\": 73.14705848693848}}}\u001b[0m\n",
      "\u001b[34m[12/14/2021 17:04:26 INFO 139672757847872] Master node: Serializing the RandomCutForest model\u001b[0m\n",
      "\u001b[34m#metrics {\"StartTime\": 1639501465.8504066, \"EndTime\": 1639501466.5402968, \"Dimensions\": {\"Algorithm\": \"RandomCutForest\", \"Host\": \"algo-1\", \"Operation\": \"training\"}, \"Metrics\": {\"serialize_model.time\": {\"sum\": 689.8391246795654, \"count\": 1, \"min\": 689.8391246795654, \"max\": 689.8391246795654}}}\u001b[0m\n",
      "\u001b[34m[12/14/2021 17:04:26 INFO 139672757847872] Test data is not provided.\u001b[0m\n",
      "\u001b[34m#metrics {\"StartTime\": 1639501466.5403695, \"EndTime\": 1639501466.5404856, \"Dimensions\": {\"Algorithm\": \"RandomCutForest\", \"Host\": \"algo-1\", \"Operation\": \"training\"}, \"Metrics\": {\"setuptime\": {\"sum\": 22.64261245727539, \"count\": 1, \"min\": 22.64261245727539, \"max\": 22.64261245727539}, \"totaltime\": {\"sum\": 2029.7093391418457, \"count\": 1, \"min\": 2029.7093391418457, \"max\": 2029.7093391418457}}}\u001b[0m\n",
      "\n",
      "2021-12-14 17:04:42 Uploading - Uploading generated training model\n",
      "2021-12-14 17:04:42 Completed - Training job completed\n",
      "Training seconds: 59\n",
      "Billable seconds: 59\n"
     ]
    }
   ],
   "source": [
    "# fitting out data to the model\n",
    "rcf.fit(rcf.record_set(X_train))"
   ]
  },
  {
   "cell_type": "markdown",
   "metadata": {},
   "source": [
    "### Deploying the model\n"
   ]
  },
  {
   "cell_type": "code",
   "execution_count": 15,
   "metadata": {},
   "outputs": [
    {
     "name": "stderr",
     "output_type": "stream",
     "text": [
      "Defaulting to the only supported framework/algorithm version: 1. Ignoring framework/algorithm version: 1.\n"
     ]
    },
    {
     "name": "stdout",
     "output_type": "stream",
     "text": [
      "-----!"
     ]
    }
   ],
   "source": [
    "# deploying the model to be used for inferences \n",
    "rcf_predictor = rcf.deploy(\n",
    "    model_name=\"{}-rcf\".format(\"fraud-detection\"),\n",
    "    endpoint_name=\"{}-rcf\".format(\"fraud-detection\"),\n",
    "    initial_instance_count=1,\n",
    "    instance_type=\"ml.c5.xlarge\")"
   ]
  },
  {
   "cell_type": "code",
   "execution_count": 16,
   "metadata": {},
   "outputs": [],
   "source": [
    "from sagemaker.predictor import CSVSerializer,JSONDeserializer\n",
    "\n",
    "rcf_predictor.serializer = CSVSerializer()\n",
    "rcf_predictor.deserializer = JSONDeserializer()"
   ]
  },
  {
   "cell_type": "markdown",
   "metadata": {},
   "source": [
    "### Testing the model"
   ]
  },
  {
   "cell_type": "code",
   "execution_count": 17,
   "metadata": {},
   "outputs": [],
   "source": [
    "# predicting the model , data splitted into small batches\n",
    "def predict_rcf(current_predictor, data, rows=500):\n",
    "    split_array = np.array_split(data, int(data.shape[0] / float(rows) + 1))\n",
    "    predictions = []\n",
    "    for array in split_array:\n",
    "        array_preds = [s['score'] for s in current_predictor.predict(array)['scores']]\n",
    "        predictions.append(array_preds)\n",
    "\n",
    "    return np.concatenate([np.array(batch) for batch in predictions])"
   ]
  },
  {
   "cell_type": "code",
   "execution_count": 18,
   "metadata": {},
   "outputs": [],
   "source": [
    "import numpy as np\n",
    "\n",
    "positives = X_test[y_test == 1]\n",
    "positives_scores = predict_rcf(rcf_predictor, positives)\n",
    "\n",
    "negatives = X_test[y_test == 0]\n",
    "negatives_scores = predict_rcf(rcf_predictor, negatives)"
   ]
  },
  {
   "cell_type": "code",
   "execution_count": 19,
   "metadata": {},
   "outputs": [],
   "source": [
    "import seaborn as sns\n",
    "import matplotlib.pyplot as plt\n",
    "sns.set(color_codes=True)"
   ]
  },
  {
   "cell_type": "code",
   "execution_count": 20,
   "metadata": {},
   "outputs": [
    {
     "data": {
      "text/plain": [
       "<matplotlib.legend.Legend at 0x7f223c0642d0>"
      ]
     },
     "execution_count": 20,
     "metadata": {},
     "output_type": "execute_result"
    },
    {
     "data": {
      "image/png": "[encoded data removed]",
      "text/plain": [
       "<Figure size 432x288 with 1 Axes>"
      ]
     },
     "metadata": {},
     "output_type": "display_data"
    }
   ],
   "source": [
    "# plotting the positives and negatives as predicted by the model\n",
    "sns.distplot(positives_scores, label='fraud', bins=20)\n",
    "sns.distplot(negatives_scores, label='not-fraud', bins=20)\n",
    "plt.legend()"
   ]
  },
  {
   "cell_type": "code",
   "execution_count": null,
   "metadata": {},
   "outputs": [],
   "source": []
  }
 ],
 "metadata": {
  "instance_type": "ml.t3.medium",
  "kernelspec": {
   "display_name": "Python 3 (Data Science)",
   "language": "python",
   "name": "python3__SAGEMAKER_INTERNAL__arn:aws:sagemaker:ap-south-1:394103062818:image/datascience-1.0"
  },
  "language_info": {
   "codemirror_mode": {
    "name": "ipython",
    "version": 3
   },
   "file_extension": ".py",
   "mimetype": "text/x-python",
   "name": "python",
   "nbconvert_exporter": "python",
   "pygments_lexer": "ipython3",
   "version": "3.7.10"
  }
 },
 "nbformat": 4,
 "nbformat_minor": 4
}
